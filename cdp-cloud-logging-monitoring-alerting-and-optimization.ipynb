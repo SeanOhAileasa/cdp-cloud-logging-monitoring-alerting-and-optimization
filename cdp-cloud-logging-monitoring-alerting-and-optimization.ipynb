{
 "cells": [
  {
   "cell_type": "markdown",
   "id": "d4ee9e4b",
   "metadata": {},
   "source": [
    "***\n",
    "< [Home](https://github.com/SeanOhAileasa) | [README](https://github.com/SeanOhAileasa/cdp-cloud-logging-monitoring-alerting-and-optimization/blob/main/README.md) >\n",
    "\n",
    "## CompTIA Cloud+ - Course Material 2022\n",
    "###### Topic: ``Cloud Logging Monitoring Alerting and Optimization``\n",
    "***"
   ]
  },
  {
   "cell_type": "markdown",
   "id": "e7228f57",
   "metadata": {},
   "source": [
    "<a id=\"top\"></a>\n",
    "***\n",
    "## Table of Contents\n",
    "***"
   ]
  },
  {
   "cell_type": "markdown",
   "id": "c2bb5e7b",
   "metadata": {},
   "source": [
    "### [Cloud Logging Monitoring Alerting and Optimization](#aa) <br/><br/>\n",
    "<hr width=50%;>"
   ]
  },
  {
   "cell_type": "markdown",
   "id": "f5d9e288",
   "metadata": {},
   "source": [
    "### [Cloud Basic Logging](#A) <br/><br/>\n",
    "<hr width=50%;>"
   ]
  },
  {
   "cell_type": "markdown",
   "id": "5e0259b3",
   "metadata": {},
   "source": [
    "### [Cloud Advanced Logging](#B) <br/><br/>\n",
    "<hr width=50%;>"
   ]
  },
  {
   "cell_type": "markdown",
   "id": "be874a84",
   "metadata": {},
   "source": [
    "### [Cloud Basic Monitoring](#C) <br/><br/>\n",
    "<hr width=50%;>"
   ]
  },
  {
   "cell_type": "markdown",
   "id": "797469ee",
   "metadata": {},
   "source": [
    "### [Cloud Advanced Monitoring](#D) <br/><br/>\n",
    "<hr width=50%;>"
   ]
  },
  {
   "cell_type": "markdown",
   "id": "51091c85",
   "metadata": {},
   "source": [
    "### [Cloud Alerting](#E) <br/><br/>\n",
    "<hr width=50%;>"
   ]
  },
  {
   "cell_type": "markdown",
   "id": "dde49173",
   "metadata": {},
   "source": [
    "### [Cloud Right-sizing and Placement](#F) <br/><br/>\n",
    "<hr width=50%;>"
   ]
  },
  {
   "cell_type": "markdown",
   "id": "29c561d2",
   "metadata": {},
   "source": [
    "### [Cloud Compute Optimization](#G) <br/><br/>\n",
    "<hr width=50%;>"
   ]
  },
  {
   "cell_type": "markdown",
   "id": "67f73f0d",
   "metadata": {},
   "source": [
    "### [Cloud Storage Optimization](#H) <br/><br/>\n",
    "<hr width=50%;>"
   ]
  },
  {
   "cell_type": "markdown",
   "id": "05f35a31",
   "metadata": {},
   "source": [
    "### [Cloud Network Optimization](#I) <br/><br/>\n",
    "<hr width=50%;>"
   ]
  },
  {
   "cell_type": "markdown",
   "id": "f953a323",
   "metadata": {},
   "source": [
    "### [Cloud Device Driver Optimization](#J) <br/><br/>\n",
    "<hr width=50%;>"
   ]
  },
  {
   "cell_type": "markdown",
   "id": "1ddfea91",
   "metadata": {},
   "source": [
    "### [Course Summary](#K) <br/><br/>\n",
    "<hr width=50%;>"
   ]
  },
  {
   "cell_type": "markdown",
   "id": "bf2b95e2",
   "metadata": {},
   "source": [
    "***\n",
    "## END"
   ]
  },
  {
   "cell_type": "markdown",
   "id": "34aa6eb5",
   "metadata": {},
   "source": [
    "< [Table of Contents](#top) | [References](#references) >\n",
    "<a id=\"aa\"></a>\n",
    "***\n",
    "### Cloud Logging Monitoring Alerting and Optimization\n",
    "***"
   ]
  },
  {
   "cell_type": "markdown",
   "id": "324cb229",
   "metadata": {},
   "source": []
  },
  {
   "cell_type": "markdown",
   "id": "7becfd7b",
   "metadata": {},
   "source": [
    "< [Table of Contents](#top) | [References](#references) >\n",
    "<a id=\"A\"></a>\n",
    "***\n",
    "### Cloud Basic Logging\n",
    "*** "
   ]
  },
  {
   "cell_type": "markdown",
   "id": "f34412ef",
   "metadata": {},
   "source": []
  },
  {
   "cell_type": "markdown",
   "id": "171806b1",
   "metadata": {},
   "source": [
    "< [Table of Contents](#top) | [References](#references) >\n",
    "<a id=\"B\"></a>\n",
    "***\n",
    "### Cloud Advanced Logging\n",
    "*** "
   ]
  },
  {
   "cell_type": "markdown",
   "id": "91f66463",
   "metadata": {},
   "source": []
  },
  {
   "cell_type": "markdown",
   "id": "a4e2cc2b",
   "metadata": {},
   "source": [
    "< [Table of Contents](#top) | [References](#references) >\n",
    "<a id=\"C\"></a>\n",
    "***\n",
    "### Cloud Basic Monitoring\n",
    "*** "
   ]
  },
  {
   "cell_type": "markdown",
   "id": "79b5e304",
   "metadata": {},
   "source": []
  },
  {
   "cell_type": "markdown",
   "id": "24cdb080",
   "metadata": {},
   "source": [
    "< [Table of Contents](#top) | [References](#references) >\n",
    "<a id=\"D\"></a>\n",
    "***\n",
    "### Cloud Advanced Monitoring\n",
    "*** "
   ]
  },
  {
   "cell_type": "markdown",
   "id": "7e068335",
   "metadata": {},
   "source": []
  },
  {
   "cell_type": "markdown",
   "id": "fb83b3f6",
   "metadata": {},
   "source": [
    "< [Table of Contents](#top) | [References](#references) >\n",
    "<a id=\"E\"></a>\n",
    "***\n",
    "### Cloud Alerting\n",
    "*** "
   ]
  },
  {
   "cell_type": "markdown",
   "id": "3e7433ed",
   "metadata": {},
   "source": []
  },
  {
   "cell_type": "markdown",
   "id": "6cc7ce50",
   "metadata": {},
   "source": [
    "< [Table of Contents](#top) | [References](#references) >\n",
    "<a id=\"F\"></a>\n",
    "***\n",
    "### Cloud Right-sizing and Placement\n",
    "*** "
   ]
  },
  {
   "cell_type": "markdown",
   "id": "cc4f457c",
   "metadata": {},
   "source": []
  },
  {
   "cell_type": "markdown",
   "id": "9a2dd1a5",
   "metadata": {},
   "source": [
    "< [Table of Contents](#top) | [References](#references) >\n",
    "<a id=\"G\"></a>\n",
    "***\n",
    "### Cloud Compute Optimization\n",
    "*** "
   ]
  },
  {
   "cell_type": "markdown",
   "id": "0af1480b",
   "metadata": {},
   "source": []
  },
  {
   "cell_type": "markdown",
   "id": "8da72f4d",
   "metadata": {},
   "source": [
    "< [Table of Contents](#top) | [References](#references) >\n",
    "<a id=\"H\"></a>\n",
    "***\n",
    "### Cloud Storage Optimization\n",
    "*** "
   ]
  },
  {
   "cell_type": "markdown",
   "id": "fb908e29",
   "metadata": {},
   "source": []
  },
  {
   "cell_type": "markdown",
   "id": "96496426",
   "metadata": {},
   "source": [
    "< [Table of Contents](#top) | [References](#references) >\n",
    "<a id=\"I\"></a>\n",
    "***\n",
    "### Cloud Network Optimization\n",
    "*** "
   ]
  },
  {
   "cell_type": "markdown",
   "id": "df2c3c1e",
   "metadata": {},
   "source": []
  },
  {
   "cell_type": "markdown",
   "id": "95e8cd59",
   "metadata": {},
   "source": [
    "< [Table of Contents](#top) | [References](#references) >\n",
    "<a id=\"J\"></a>\n",
    "***\n",
    "### Cloud Device Driver Optimization\n",
    "*** "
   ]
  },
  {
   "cell_type": "markdown",
   "id": "ba4c67a6",
   "metadata": {},
   "source": []
  },
  {
   "cell_type": "markdown",
   "id": "5ee7cbb3",
   "metadata": {},
   "source": [
    "< [Table of Contents](#top) | [References](#references) >\n",
    "<a id=\"K\"></a>\n",
    "***\n",
    "### Course Summary\n",
    "*** "
   ]
  },
  {
   "cell_type": "markdown",
   "id": "173e78b5",
   "metadata": {},
   "source": []
  },
  {
   "cell_type": "markdown",
   "id": "2cc20932",
   "metadata": {},
   "source": [
    "***\n",
    "## END"
   ]
  },
  {
   "cell_type": "markdown",
   "id": "e0e42d51",
   "metadata": {},
   "source": [
    "< [Table of Contents](#top) >\n",
    "<a id=\"references\"></a>\n",
    "***\n",
    "## References\n",
    "***"
   ]
  },
  {
   "cell_type": "markdown",
   "id": "757bf6de",
   "metadata": {},
   "source": [
    "&nbsp;&nbsp;&nbsp;&nbsp;&nbsp;&nbsp;&nbsp;&nbsp;&nbsp;skillsoft, \"Cloud Logging Monitoring Alerting and Optimization,\" [skillsoft.com](https://web.archive.org/web/20220403100053/https://www.skillsoft.com/), n.d.."
   ]
  },
  {
   "cell_type": "markdown",
   "id": "b33c372a",
   "metadata": {},
   "source": [
    "***\n",
    "## END"
   ]
  },
  {
   "cell_type": "markdown",
   "id": "e5961b4d",
   "metadata": {},
   "source": [
    "< [Table of Contents](#top) | [References](#references) >\n",
    "<a id=\"appendix\"></a>\n",
    "***\n",
    "## Appendix\n",
    "***"
   ]
  },
  {
   "cell_type": "markdown",
   "id": "00d82a82",
   "metadata": {},
   "source": [
    "***\n",
    "## END"
   ]
  },
  {
   "cell_type": "code",
   "execution_count": 1,
   "id": "706756a2",
   "metadata": {},
   "outputs": [
    {
     "name": "stderr",
     "output_type": "stream",
     "text": [
      "C:\\Users\\SeanOhAileasa\\AppData\\Local\\Temp\\ipykernel_1696\\1322614208.py:1: DeprecationWarning: Importing display from IPython.core.display is deprecated since IPython 7.14, please import from IPython display\n",
      "  from IPython.core.display import display,HTML\n"
     ]
    },
    {
     "data": {
      "text/html": [
       "<style>.container { width:100% !important; }</style>"
      ],
      "text/plain": [
       "<IPython.core.display.HTML object>"
      ]
     },
     "metadata": {},
     "output_type": "display_data"
    }
   ],
   "source": [
    "from IPython.core.display import display,HTML\n",
    "display(HTML(\"<style>.container { width:100% !important; }</style>\"))"
   ]
  },
  {
   "cell_type": "markdown",
   "id": "899c1783",
   "metadata": {},
   "source": [
    "# END JUPYTER NOTEBOOK"
   ]
  }
 ],
 "metadata": {
  "kernelspec": {
   "display_name": "Python 3 (ipykernel)",
   "language": "python",
   "name": "python3"
  },
  "language_info": {
   "codemirror_mode": {
    "name": "ipython",
    "version": 3
   },
   "file_extension": ".py",
   "mimetype": "text/x-python",
   "name": "python",
   "nbconvert_exporter": "python",
   "pygments_lexer": "ipython3",
   "version": "3.9.12"
  }
 },
 "nbformat": 4,
 "nbformat_minor": 5
}
